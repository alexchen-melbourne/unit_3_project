{
 "cells": [
  {
   "cell_type": "code",
   "execution_count": 2,
   "metadata": {
    "ExecuteTime": {
     "end_time": "2017-09-01T00:52:48.555925Z",
     "start_time": "2017-09-01T00:52:47.592679Z"
    },
    "collapsed": true
   },
   "outputs": [],
   "source": [
    "# Load packages\n",
    "from __future__ import division\n",
    "import numpy as np\n",
    "import scipy.stats as stats\n",
    "import seaborn as sns\n",
    "import matplotlib.pyplot as plt\n",
    "import pandas as pd\n",
    "\n",
    "from sklearn.metrics import mean_squared_error\n",
    "\n",
    "from sklearn.feature_selection import SelectKBest, chi2, f_classif, RFECV\n",
    "from sklearn.preprocessing import StandardScaler\n",
    "\n",
    "from sklearn.neighbors import KNeighborsClassifier\n",
    "from sklearn.linear_model import LogisticRegression, LogisticRegressionCV, LinearRegression, ElasticNet, ElasticNetCV, RidgeCV, Ridge\n",
    "\n",
    "from sklearn.model_selection import cross_val_score\n",
    "\n",
    "sns.set_style('whitegrid')\n",
    "\n",
    "%config InlineBackend.figure_format = 'retina'\n",
    "%matplotlib inline\n",
    "\n",
    "# Considering there are a lot of features in the dataset, make \n",
    "# the display wider to make sure every column could be shown.\n",
    "pd.set_option('display.max_columns', 500)\n",
    "\n",
    "# Load the data\n",
    "house = pd.read_csv('./housing.csv')"
   ]
  },
  {
   "cell_type": "markdown",
   "metadata": {},
   "source": [
    "# Estimatie house value."
   ]
  },
  {
   "cell_type": "markdown",
   "metadata": {},
   "source": [
    "Estimate the sale price of properties based on their \"fixed\" characteristics, such as neighborhood, lot size, number of stories."
   ]
  },
  {
   "cell_type": "markdown",
   "metadata": {},
   "source": [
    "##  Data cleaning"
   ]
  },
  {
   "cell_type": "code",
   "execution_count": null,
   "metadata": {
    "ExecuteTime": {
     "end_time": "2017-09-01T00:51:50.448818Z",
     "start_time": "2017-09-01T00:51:50.377033Z"
    },
    "collapsed": true
   },
   "outputs": [],
   "source": [
    "# First glance at data.\n",
    "house.head(2)"
   ]
  },
  {
   "cell_type": "code",
   "execution_count": null,
   "metadata": {
    "ExecuteTime": {
     "end_time": "2017-09-01T00:51:50.453840Z",
     "start_time": "2017-09-01T00:51:50.450117Z"
    },
    "collapsed": true
   },
   "outputs": [],
   "source": [
    "# shape of house dataset\n",
    "house.shape"
   ]
  },
  {
   "cell_type": "code",
   "execution_count": null,
   "metadata": {
    "ExecuteTime": {
     "end_time": "2017-09-01T00:51:50.457362Z",
     "start_time": "2017-09-01T00:51:50.455209Z"
    },
    "collapsed": true
   },
   "outputs": [],
   "source": [
    "# house.dtype"
   ]
  },
  {
   "cell_type": "code",
   "execution_count": null,
   "metadata": {
    "ExecuteTime": {
     "end_time": "2017-09-01T00:51:50.461238Z",
     "start_time": "2017-09-01T00:51:50.458620Z"
    },
    "collapsed": true
   },
   "outputs": [],
   "source": [
    "# Check basic data infomation\n",
    "# house.info()"
   ]
  },
  {
   "cell_type": "code",
   "execution_count": null,
   "metadata": {
    "ExecuteTime": {
     "end_time": "2017-09-01T00:51:50.464791Z",
     "start_time": "2017-09-01T00:51:50.462527Z"
    },
    "collapsed": true
   },
   "outputs": [],
   "source": [
    "# Describe numeric data\n",
    "# house.describe().T"
   ]
  },
  {
   "cell_type": "markdown",
   "metadata": {},
   "source": [
    "### Drop unwanted rows\n",
    "Any non residential houses are out of this analysis, so they should be dropped.\n",
    "\n",
    "MSZoning: Identifies the general zoning classification of the sale.\n",
    "\t\t\n",
    "       A\tAgriculture\n",
    "       C\tCommercial\n",
    "       FV\tFloating Village Residential\n",
    "       I\tIndustrial\n",
    "       RH\tResidential High Density\n",
    "       RL\tResidential Low Density\n",
    "       RP\tResidential Low Density Park \n",
    "       RM\tResidential Medium Density"
   ]
  },
  {
   "cell_type": "code",
   "execution_count": null,
   "metadata": {
    "ExecuteTime": {
     "end_time": "2017-09-01T00:51:50.473020Z",
     "start_time": "2017-09-01T00:51:50.466117Z"
    },
    "collapsed": true,
    "scrolled": true
   },
   "outputs": [],
   "source": [
    "# Remove any houses that are not residential from the dataset.\n",
    "print house.MSZoning.unique(), house.shape\n",
    "house = house[house.MSZoning != 'C (all)']\n",
    "print house.MSZoning.unique(), house.shape\n",
    "\n",
    "# All commercial house, which categories as 'C (all)', now has been dropped (10 rows)."
   ]
  },
  {
   "cell_type": "markdown",
   "metadata": {},
   "source": [
    "### Drop unwanted features\n",
    "Majority in Alley, FireplaceQu, PoolQC, Fence and MiscFeature feature are missing. Therefore, either fillna or imputation are not going to do any good to future model. So, these 5 columns should be dropped."
   ]
  },
  {
   "cell_type": "code",
   "execution_count": null,
   "metadata": {
    "ExecuteTime": {
     "end_time": "2017-09-01T00:51:50.547206Z",
     "start_time": "2017-09-01T00:51:50.474309Z"
    },
    "collapsed": true,
    "scrolled": true
   },
   "outputs": [],
   "source": [
    "# Check if any null data\n",
    "for i in range(len(house.columns)):\n",
    "    # This loop will go through each column to check if there are more than \n",
    "    # 20% data missing. And then, print out selected columns.\n",
    "    nullValue = house.iloc[:,i].isnull().sum()\n",
    "    nullprop = float(nullValue) / 14.50\n",
    "    if nullValue != 0 and nullprop > 20:\n",
    "        print '{} Column has {} null value, which is {}% missing data'.format(\n",
    "            house.columns[i], nullValue, nullprop)\n",
    "        \n",
    "# Drop Alley, FireplaceQu, PoolQC, Fence, MiscFeature, \n",
    "# since most of data in those columns are missing.\n",
    "print house.shape\n",
    "house.drop(['Id', 'Alley', 'FireplaceQu', 'PoolQC', 'Fence', 'MiscFeature'], \n",
    "           axis=1, inplace=True)\n",
    "print house.shape\n",
    "\n",
    "# There are 6 columns dropped. Id column also be dropped \n",
    "# since it does no help for predicting."
   ]
  },
  {
   "cell_type": "markdown",
   "metadata": {},
   "source": [
    "### Fill NA"
   ]
  },
  {
   "cell_type": "code",
   "execution_count": null,
   "metadata": {
    "ExecuteTime": {
     "end_time": "2017-09-01T00:51:50.575200Z",
     "start_time": "2017-09-01T00:51:50.548497Z"
    },
    "collapsed": true,
    "scrolled": true
   },
   "outputs": [],
   "source": [
    "# Find columns who still have null value\n",
    "mc = house.columns[pd.isnull(house).sum() > 0]\n",
    "for c in mc[1:]:\n",
    "    print 'There are {} missing value in {}.'.format(house[c].isnull().sum(), c)\n",
    "    if house[c].dtype == 'object':\n",
    "        house[c] = house[c].fillna('None')\n",
    "    else:\n",
    "        house[c] = house[c].fillna(house[c].mean())\n",
    "\n",
    "print '\\nAfter fill na, there are still {} missing data in {} colums.'.format(\n",
    "    house.isnull().sum().sum(), mc[0])\n",
    "\n",
    "# All columns with dtype float64 will be filled mean value in nan blank\n",
    "# All columns with dtype object will be filled with 'None'"
   ]
  },
  {
   "cell_type": "markdown",
   "metadata": {},
   "source": [
    "There are very little missing data in above columns, therefore, I decide to fill in those missing spot with means or 'None' for object columns. "
   ]
  },
  {
   "cell_type": "markdown",
   "metadata": {},
   "source": [
    "### Imputing Missing Data: Lotfrontage\n",
    "17.9%\n",
    "\n",
    "Since 259/1450 missing data in LotFrontage columns, which is a very larger precentage, I am going to impute missing values with a predictive model so that I can keep those valuable data."
   ]
  },
  {
   "cell_type": "code",
   "execution_count": null,
   "metadata": {
    "ExecuteTime": {
     "end_time": "2017-09-01T00:51:50.582263Z",
     "start_time": "2017-09-01T00:51:50.576730Z"
    },
    "collapsed": true
   },
   "outputs": [],
   "source": [
    "house.LotFrontage.isnull().sum()"
   ]
  },
  {
   "cell_type": "code",
   "execution_count": null,
   "metadata": {
    "ExecuteTime": {
     "end_time": "2017-09-01T00:51:50.869806Z",
     "start_time": "2017-09-01T00:51:50.583815Z"
    },
    "collapsed": true
   },
   "outputs": [],
   "source": [
    "house.LotFrontage.plot(kind='hist')"
   ]
  },
  {
   "cell_type": "code",
   "execution_count": null,
   "metadata": {
    "ExecuteTime": {
     "end_time": "2017-09-01T00:51:50.874556Z",
     "start_time": "2017-09-01T00:51:50.871503Z"
    },
    "collapsed": true
   },
   "outputs": [],
   "source": [
    "house.LotFrontage = house.LotFrontage.fillna(house.LotFrontage.mean())"
   ]
  },
  {
   "cell_type": "code",
   "execution_count": null,
   "metadata": {
    "ExecuteTime": {
     "end_time": "2017-09-01T00:51:51.104736Z",
     "start_time": "2017-09-01T00:51:50.875994Z"
    },
    "collapsed": true
   },
   "outputs": [],
   "source": [
    "house.LotFrontage.plot(kind='hist')"
   ]
  },
  {
   "cell_type": "code",
   "execution_count": null,
   "metadata": {
    "ExecuteTime": {
     "end_time": "2017-09-01T00:51:51.113896Z",
     "start_time": "2017-09-01T00:51:51.106081Z"
    },
    "collapsed": true
   },
   "outputs": [],
   "source": [
    "house.isnull().sum().sum()"
   ]
  },
  {
   "cell_type": "markdown",
   "metadata": {},
   "source": [
    "## Identify Fixed Feature"
   ]
  },
  {
   "cell_type": "markdown",
   "metadata": {},
   "source": [
    "Fixed feature:\n",
    "- MSSubClass: Identifies the type of dwelling involved in the sale.\t\n",
    "- LotFrontage: Linear feet of street connected to property\n",
    "- LandContour: Flatness of the property\n",
    "- LotConfig: Lot configuration\n",
    "- LandSlope: Slope of property\n",
    "- Neighborhood: Physical locations within Ames city limits\n",
    "- Condition1: Proximity to various conditions\n",
    "- Condition2: Proximity to various conditions (if more than one is present)\n",
    "- BldgType: Type of dwelling\n",
    "- YearBuilt: Original construction date\n",
    "- YearRemodAdd: Remodel date (same as construction date if no remodeling or additions)\n",
    "- PoolArea: Pool area in square feet\n",
    "- 1stFlrSF: First Floor square feet\n",
    "- 2ndFlrSF: Second floor square feet\n",
    "- GrLivArea: Above grade (ground) living area square feet ?\n",
    "- BsmtFullBath: Basement full bathrooms\n",
    "- BsmtHalfBath: Basement half bathrooms\n",
    "- FullBath: Full bathrooms above grade\n",
    "- HalfBath: Half baths above grade\n",
    "- Bedroom: Bedrooms above grade (does NOT include basement bedrooms)\n",
    "- Kitchen: Kitchens above grade\n",
    "- TotRmsAbvGrd: Total rooms above grade (does not include bathrooms)\n",
    "- Fireplaces: Number of fireplaces\n",
    "- GarageCars: Size of garage in car capacity\n",
    "- GarageArea: Size of garage in square feet\n",
    "- OpenPorchSF: Open porch area in square feet\n",
    "- EnclosedPorch: Enclosed porch area in square feet\n",
    "- 3SsnPorch: Three season porch area in square feet\n",
    "- ScreenPorch: Screen porch area in square feet\n",
    "- PoolArea: Pool area in square feet"
   ]
  },
  {
   "cell_type": "code",
   "execution_count": null,
   "metadata": {
    "ExecuteTime": {
     "end_time": "2017-09-01T00:51:51.119406Z",
     "start_time": "2017-09-01T00:51:51.115214Z"
    },
    "collapsed": true
   },
   "outputs": [],
   "source": [
    "fixed_feature = ['MSSubClass', 'LotFrontage', 'LotArea', 'LandContour', 'LotConfig',\n",
    "                 'LandSlope', 'Neighborhood', 'Condition1', 'Condition2',\n",
    "                 'BldgType', 'YearBuilt', 'YearRemodAdd', 'PoolArea', \n",
    "                 '1stFlrSF', '2ndFlrSF', 'GrLivArea', 'BsmtFullBath', \n",
    "                 'BsmtHalfBath', 'FullBath', 'HalfBath', 'Bedroom', \n",
    "                 'Kitchen', 'TotRmsAbvGrd', 'Fireplaces', 'GarageCars', \n",
    "                 'GarageArea', 'OpenPorchSF', 'EnclosedPorch', '3SsnPorch',\n",
    "                 'ScreenPorch''PoolArea', 'GarageYrBlt', 'TotalBsmtSF', \n",
    "                 'BedroomAbvGr', 'KitchenAbvGr', 'MoSold', 'YrSold', 'SalePrice']"
   ]
  },
  {
   "cell_type": "code",
   "execution_count": null,
   "metadata": {
    "ExecuteTime": {
     "end_time": "2017-09-01T00:51:51.126413Z",
     "start_time": "2017-09-01T00:51:51.120815Z"
    },
    "collapsed": true
   },
   "outputs": [],
   "source": [
    "fixed_house = house[[x for x in house.columns if x in fixed_feature]].copy()\n",
    "fixed_house.shape"
   ]
  },
  {
   "cell_type": "code",
   "execution_count": null,
   "metadata": {
    "ExecuteTime": {
     "end_time": "2017-09-01T00:51:51.157181Z",
     "start_time": "2017-09-01T00:51:51.127738Z"
    },
    "collapsed": true
   },
   "outputs": [],
   "source": [
    "fixed_house.head(2)"
   ]
  },
  {
   "cell_type": "markdown",
   "metadata": {},
   "source": [
    "## Explotary Data Analysis"
   ]
  },
  {
   "cell_type": "markdown",
   "metadata": {},
   "source": [
    "### Corelationship between sale price and time-related features"
   ]
  },
  {
   "cell_type": "code",
   "execution_count": null,
   "metadata": {
    "ExecuteTime": {
     "end_time": "2017-09-01T00:51:51.534454Z",
     "start_time": "2017-09-01T00:51:51.158437Z"
    },
    "collapsed": true,
    "scrolled": true
   },
   "outputs": [],
   "source": [
    "house['SalePrice'].plot(kind='hist', figsize=(10,5), bins=30)"
   ]
  },
  {
   "cell_type": "markdown",
   "metadata": {},
   "source": [
    "According to histogram above, sale price basically normally distributed. Obviously, there are some outliers which should be removed later."
   ]
  },
  {
   "cell_type": "code",
   "execution_count": null,
   "metadata": {
    "ExecuteTime": {
     "end_time": "2017-09-01T00:51:52.411677Z",
     "start_time": "2017-09-01T00:51:51.535999Z"
    },
    "collapsed": true
   },
   "outputs": [],
   "source": [
    "sns.jointplot(x=\"YrSold\", y=\"SalePrice\", data=house, kind=\"reg\")"
   ]
  },
  {
   "cell_type": "markdown",
   "metadata": {},
   "source": [
    "Sale price of houses and sold year of houses have no corelationship. "
   ]
  },
  {
   "cell_type": "code",
   "execution_count": null,
   "metadata": {
    "ExecuteTime": {
     "end_time": "2017-09-01T00:51:53.356895Z",
     "start_time": "2017-09-01T00:51:52.413318Z"
    },
    "collapsed": true
   },
   "outputs": [],
   "source": [
    "sns.jointplot(x=\"MoSold\", y=\"SalePrice\", data=house, kind=\"reg\")"
   ]
  },
  {
   "cell_type": "markdown",
   "metadata": {},
   "source": [
    "Similar with year of sold, month of sold also has no strong corelationship with sale price. \n",
    "\n",
    "These 2 features should be dropped after feature selection."
   ]
  },
  {
   "cell_type": "code",
   "execution_count": null,
   "metadata": {
    "ExecuteTime": {
     "end_time": "2017-09-01T00:51:54.214674Z",
     "start_time": "2017-09-01T00:51:53.358245Z"
    },
    "collapsed": true
   },
   "outputs": [],
   "source": [
    "sns.jointplot(x=\"YearBuilt\", y=\"SalePrice\", data=house, kind=\"reg\")"
   ]
  },
  {
   "cell_type": "code",
   "execution_count": null,
   "metadata": {
    "ExecuteTime": {
     "end_time": "2017-09-01T00:51:55.060224Z",
     "start_time": "2017-09-01T00:51:54.216362Z"
    },
    "collapsed": true
   },
   "outputs": [],
   "source": [
    "sns.jointplot(x=\"YearRemodAdd\", y=\"SalePrice\", data=house, kind=\"reg\")"
   ]
  },
  {
   "cell_type": "code",
   "execution_count": null,
   "metadata": {
    "ExecuteTime": {
     "end_time": "2017-09-01T00:51:55.930334Z",
     "start_time": "2017-09-01T00:51:55.061998Z"
    },
    "collapsed": true
   },
   "outputs": [],
   "source": [
    "sns.jointplot(x=\"YearRemodAdd\", y=\"YearBuilt\", data=house, kind=\"reg\")"
   ]
  },
  {
   "cell_type": "code",
   "execution_count": null,
   "metadata": {
    "ExecuteTime": {
     "start_time": "2017-09-01T00:51:49.381Z"
    },
    "collapsed": true
   },
   "outputs": [],
   "source": [
    "sns.jointplot(x=\"GarageYrBlt\", y=\"SalePrice\", data=house, kind=\"reg\")"
   ]
  },
  {
   "cell_type": "markdown",
   "metadata": {},
   "source": [
    "Comparing to YrSold and MoSold, YearBuilt, YearRemodAdd and GarageYrBlt are obvious better features associated with sale price.\n",
    "\n",
    "- YearBuilt: Original construction date\n",
    "- YearRemodAdd: Remodel date (same as construction date if no remodeling or additions)\n",
    "- GarageYrBlt: Year garage was built\n"
   ]
  },
  {
   "cell_type": "code",
   "execution_count": null,
   "metadata": {
    "ExecuteTime": {
     "start_time": "2017-09-01T00:51:49.387Z"
    },
    "collapsed": true
   },
   "outputs": [],
   "source": [
    "sns.pairplot(house[['YearBuilt', 'YearRemodAdd', 'GarageYrBlt', 'YrSold', \n",
    "                   'MoSold', 'SalePrice']])"
   ]
  },
  {
   "cell_type": "markdown",
   "metadata": {},
   "source": [
    "### Linear relationship between features"
   ]
  },
  {
   "cell_type": "code",
   "execution_count": null,
   "metadata": {
    "ExecuteTime": {
     "start_time": "2017-09-01T00:51:49.392Z"
    },
    "collapsed": true
   },
   "outputs": [],
   "source": [
    "plt.figure(figsize=(20,20))\n",
    "sns.heatmap(house.corr(), annot=True)"
   ]
  },
  {
   "cell_type": "markdown",
   "metadata": {},
   "source": [
    "According the plot above, some features have strong corelationship with sale price.\n",
    "\n",
    "- OverallQual\n",
    "- TotalBsmtSF\n",
    "- 1stFlrSF\n",
    "- GrLiveArea\n",
    "- GarageCars\n",
    "- GarageArea\n",
    "\n",
    "Other finding:\n",
    "\n",
    "1. GarageYrBlt and YearBuilt have strong corelation (78%)\n",
    "- GarageArea and GarageCars (88%)\n",
    "- TotRmsAbvGrd and GrLiveArea (83%)\n",
    "- 1stFlrSF and TotalBsmtSF (82%)\n",
    "\n",
    "In general, each of two features in a pair has similar meaning in realistic. For instance, garage built year and house built year have strong corelationship since garage always built with house. \n",
    "\n",
    "Those pairs are not good for linear regression since they are strong corelated. Therefore, only one feature from a pair should be chosen for linear regression. \n",
    "\n",
    "This is a reference for checking after *feature selection*."
   ]
  },
  {
   "cell_type": "code",
   "execution_count": null,
   "metadata": {
    "collapsed": true
   },
   "outputs": [],
   "source": []
  },
  {
   "cell_type": "markdown",
   "metadata": {},
   "source": [
    "## Identify outliers"
   ]
  },
  {
   "cell_type": "code",
   "execution_count": null,
   "metadata": {
    "ExecuteTime": {
     "start_time": "2017-09-01T00:51:49.400Z"
    },
    "collapsed": true
   },
   "outputs": [],
   "source": [
    "# Box plot functions helping mathod to help identify outliers\n",
    "def boxplot_helper(column):\n",
    "    fig = plt.figure(figsize=(6,4))\n",
    "    ax = fig.gca()\n",
    "\n",
    "    ax = sns.boxplot(column, orient='v',\n",
    "                fliersize=8, linewidth=1.5, notch=True,\n",
    "                saturation=0.5, ax=ax)\n",
    "\n",
    "    ax.set_ylabel(column.name, fontsize=16)\n",
    "    ax.set_title(column.name, fontsize=20)\n",
    "\n",
    "    plt.show()\n",
    "    \n",
    "def boxplot_all(df, f=(12,6)):\n",
    "    fig = plt.figure(figsize=f)\n",
    "    ax = fig.gca()\n",
    "\n",
    "    ax = sns.boxplot(data=df, orient='h', fliersize=5, linewidth=3, notch=True,\n",
    "                 saturation=0.5, ax=ax)\n",
    "\n",
    "    ax.set_title('All variables boxplot\\n')\n",
    "    plt.show()"
   ]
  },
  {
   "cell_type": "code",
   "execution_count": null,
   "metadata": {
    "ExecuteTime": {
     "start_time": "2017-09-01T00:51:49.407Z"
    },
    "collapsed": true
   },
   "outputs": [],
   "source": [
    "# boxplot of saleprice column\n",
    "boxplot_helper(fixed_house.SalePrice)"
   ]
  },
  {
   "cell_type": "code",
   "execution_count": null,
   "metadata": {
    "ExecuteTime": {
     "start_time": "2017-09-01T00:51:49.412Z"
    },
    "collapsed": true
   },
   "outputs": [],
   "source": [
    "# Split object dtypes columns and numeric dtypes columns\n",
    "numer_col = []\n",
    "for c in fixed_house.columns:\n",
    "    if fixed_house[c].dtypes != 'object':\n",
    "        numer_col.append(c)\n",
    "\n",
    "house_numer_cols = fixed_house[numer_col]\n",
    "house_numer_cols.shape"
   ]
  },
  {
   "cell_type": "code",
   "execution_count": null,
   "metadata": {
    "ExecuteTime": {
     "start_time": "2017-09-01T00:51:49.417Z"
    },
    "collapsed": true
   },
   "outputs": [],
   "source": [
    "# Standardize numeric data and boxplot it \n",
    "hnc_stand = (house_numer_cols - house_numer_cols.mean()) / house_numer_cols.std()\n",
    "boxplot_all(hnc_stand, f=(10,10))"
   ]
  },
  {
   "cell_type": "markdown",
   "metadata": {},
   "source": [
    "According to the plot above, we can comfirm that there are a lot of outliers existing. Ths most obvirous outliers sit in \"LotArea\", \"3SsnPorch\", \"PoolArea\". \n",
    "\n",
    "- LotArea: Lot size in square feet.\n",
    "- 3SsnPorch: Three season porch area in square feet.\n",
    "- PoolArea: Pool area in square feet.\n",
    "\n",
    "It is hard to come up a realistic reason to decide which is outlier since even outliers seems reasonable. For instance, some house can really have a giant swimming pool comparing most of rest having none. However, outliers sometimes can do real damage to our model since they can make the model skew or bias towards outliers.\n",
    "\n",
    "Therefore, I'm going to identify outliers and remove it from dataset."
   ]
  },
  {
   "cell_type": "code",
   "execution_count": null,
   "metadata": {
    "ExecuteTime": {
     "start_time": "2017-09-01T00:51:49.422Z"
    },
    "collapsed": true
   },
   "outputs": [],
   "source": [
    "def is_outlier(points, thresh=3.5):\n",
    "    if len(points.shape) == 1:\n",
    "        points = points[:,None]\n",
    "    median = np.median(points, axis=0)\n",
    "    diff = np.sum((points - median)**2, axis=1)\n",
    "    diff = np.sqrt(diff)\n",
    "    med_abs_deviation = np.median(diff)\n",
    "\n",
    "    modified_z_score = 0.6745 * diff / med_abs_deviation\n",
    "\n",
    "    return modified_z_score > thresh"
   ]
  },
  {
   "cell_type": "markdown",
   "metadata": {},
   "source": [
    "Identify ouliers:"
   ]
  },
  {
   "cell_type": "code",
   "execution_count": null,
   "metadata": {
    "ExecuteTime": {
     "start_time": "2017-09-01T00:51:49.429Z"
    },
    "collapsed": true
   },
   "outputs": [],
   "source": [
    "hnc_stand_noout = hnc_stand[~ is_outlier(hnc_stand, thresh=1.5)]\n",
    "print hnc_stand_noout.shape\n",
    "boxplot_all(hnc_stand_noout, f=(12,12))"
   ]
  },
  {
   "cell_type": "markdown",
   "metadata": {},
   "source": [
    "##### Comparing the boxplot before, the range of x-axis (-4 t0 8) is significanly narrowed, which is (-5 to 30) in previous.\n",
    "\n",
    "There are 25 rows dropped."
   ]
  },
  {
   "cell_type": "code",
   "execution_count": null,
   "metadata": {
    "ExecuteTime": {
     "start_time": "2017-09-01T00:51:49.435Z"
    },
    "collapsed": true
   },
   "outputs": [],
   "source": [
    "house_remove_outlier = fixed_house[~ is_outlier(hnc_stand, thresh=1.5)]\n",
    "removed_rows = fixed_house[is_outlier(hnc_stand, thresh=1.5)]\n",
    "print removed_rows.shape, house_remove_outlier.shape\n",
    "\n",
    "fixed_house = fixed_house[~ is_outlier(hnc_stand, thresh=1.5)]"
   ]
  },
  {
   "cell_type": "markdown",
   "metadata": {
    "collapsed": true
   },
   "source": [
    "## Feature Selection"
   ]
  },
  {
   "cell_type": "markdown",
   "metadata": {},
   "source": [
    "### Factorize categorical into dummies variables"
   ]
  },
  {
   "cell_type": "code",
   "execution_count": null,
   "metadata": {
    "ExecuteTime": {
     "start_time": "2017-09-01T00:51:49.442Z"
    },
    "collapsed": true,
    "scrolled": true
   },
   "outputs": [],
   "source": [
    "# Exact columns with object dtype\n",
    "object_cols = []\n",
    "for c in fixed_house.columns:\n",
    "    if fixed_house[c].dtypes == 'object':\n",
    "        object_cols.append(c)\n",
    "print len(object_cols)\n",
    "house_object = fixed_house.loc[:, object_cols]\n",
    "print house_object.shape"
   ]
  },
  {
   "cell_type": "code",
   "execution_count": null,
   "metadata": {
    "ExecuteTime": {
     "start_time": "2017-09-01T00:51:49.448Z"
    },
    "collapsed": true
   },
   "outputs": [],
   "source": [
    "# process factorization\n",
    "for c in object_cols:\n",
    "    dummies = pd.get_dummies(house_object[[c]], drop_first=True)\n",
    "    fixed_house = pd.concat([dummies, fixed_house], axis=1)\n",
    "    fixed_house.drop(c, axis=1, inplace=True)\n",
    "fixed_house.shape"
   ]
  },
  {
   "cell_type": "markdown",
   "metadata": {},
   "source": [
    "### Spliting data into testing and training group"
   ]
  },
  {
   "cell_type": "code",
   "execution_count": null,
   "metadata": {
    "ExecuteTime": {
     "start_time": "2017-09-01T00:51:49.455Z"
    },
    "collapsed": true
   },
   "outputs": [],
   "source": [
    "# spliting data into testing and training group \n",
    "# depends on if the house sold in 2010\n",
    "\n",
    "testing = fixed_house[fixed_house.YrSold == 2010]\n",
    "training = fixed_house[fixed_house.YrSold != 2010]\n",
    "\n",
    "testing_y = testing['SalePrice'].values\n",
    "testing_X = testing.iloc[:, 0:len(fixed_house.columns)-1]\n",
    "\n",
    "training_y = training['SalePrice'].values\n",
    "training_X = training.iloc[:, 0:len(fixed_house.columns)-1]"
   ]
  },
  {
   "cell_type": "markdown",
   "metadata": {
    "collapsed": true
   },
   "source": [
    "### Feature selection with univariate selection"
   ]
  },
  {
   "cell_type": "code",
   "execution_count": null,
   "metadata": {
    "ExecuteTime": {
     "start_time": "2017-09-01T00:51:49.462Z"
    },
    "collapsed": true
   },
   "outputs": [],
   "source": [
    "# feature extraction\n",
    "select = SelectKBest(score_func=chi2, k=50)\n",
    "fit = select.fit(training_X, training_y)\n",
    "\n",
    "# summarize scores\n",
    "np.set_printoptions(suppress=True)\n",
    "print(fit.scores_)\n",
    "X_fs_train = fit.transform(training_X)\n",
    "X_fs_test = fit.transform(testing_X)\n",
    "\n",
    "print X_fs_train.shape, X_fs_test.shape"
   ]
  },
  {
   "cell_type": "code",
   "execution_count": null,
   "metadata": {
    "ExecuteTime": {
     "start_time": "2017-09-01T00:51:49.469Z"
    },
    "collapsed": true
   },
   "outputs": [],
   "source": [
    "feature_scores = fit.scores_\n",
    "feature_score = pd.DataFrame(feature_scores).T\n",
    "feature_score.columns = training_X.columns\n",
    "feature_score = feature_score.T\n",
    "feature_score.columns = ['score']\n",
    "feature_score.sort_values('score', ascending=False).head(10)"
   ]
  },
  {
   "cell_type": "markdown",
   "metadata": {},
   "source": [
    "### Feature selection with RFE"
   ]
  },
  {
   "cell_type": "code",
   "execution_count": null,
   "metadata": {
    "ExecuteTime": {
     "start_time": "2017-09-01T00:51:49.479Z"
    },
    "collapsed": true
   },
   "outputs": [],
   "source": [
    "selector = RFECV(LinearRegression(), step=1, cv=10)\n",
    "selector = selector.fit(training_X, training_y)\n",
    "\n",
    "print selector.support_\n",
    "print selector.ranking_\n",
    "\n",
    "rfecv_columns = np.array(training_X.columns)[~ selector.support_]\n",
    "rfecv_columns"
   ]
  },
  {
   "cell_type": "markdown",
   "metadata": {
    "collapsed": true
   },
   "source": [
    "## Build models and evaluation"
   ]
  },
  {
   "cell_type": "markdown",
   "metadata": {},
   "source": [
    "### Using all features (78)"
   ]
  },
  {
   "cell_type": "code",
   "execution_count": null,
   "metadata": {
    "ExecuteTime": {
     "start_time": "2017-09-01T00:51:49.487Z"
    },
    "collapsed": true
   },
   "outputs": [],
   "source": [
    "# Standardize data \n",
    "ss = StandardScaler()\n",
    "ss.fit(training_X, training_y)\n",
    "Xs_train = ss.transform(training_X)\n",
    "Xs_test = ss.transform(testing_X)\n",
    "\n",
    "print training_X.shape"
   ]
  },
  {
   "cell_type": "code",
   "execution_count": null,
   "metadata": {
    "ExecuteTime": {
     "start_time": "2017-09-01T00:51:49.495Z"
    },
    "collapsed": true
   },
   "outputs": [],
   "source": [
    "# fiting all features into a linear model\n",
    "lm = LinearRegression()\n",
    "model = lm.fit(Xs_train, training_y)\n",
    "\n",
    "# evaluate with training data\n",
    "print model.score(Xs_train, training_y)\n",
    "print cross_val_score(lm, Xs_train, training_y, cv=10)\n",
    "\n",
    "# predict testing data\n",
    "predict_test = model.predict(Xs_test)\n",
    "\n",
    "print model.score(Xs_test, testing_y)"
   ]
  },
  {
   "cell_type": "markdown",
   "metadata": {},
   "source": [
    "### Using selected features (50 features)"
   ]
  },
  {
   "cell_type": "markdown",
   "metadata": {},
   "source": [
    "Univariate feature selection (select k best) does not necessarily get optimal model accuracy when features are interdependent and mutually exclusive."
   ]
  },
  {
   "cell_type": "code",
   "execution_count": null,
   "metadata": {
    "ExecuteTime": {
     "start_time": "2017-09-01T00:51:49.502Z"
    },
    "collapsed": true
   },
   "outputs": [],
   "source": [
    "# Standardize data \n",
    "ss2 = StandardScaler()\n",
    "ss2.fit(X_fs_train, training_y)\n",
    "Xs_train2 = ss2.transform(X_fs_train)\n",
    "Xs_test2 = ss2.transform(X_fs_test)"
   ]
  },
  {
   "cell_type": "code",
   "execution_count": null,
   "metadata": {
    "ExecuteTime": {
     "start_time": "2017-09-01T00:51:49.508Z"
    },
    "collapsed": true
   },
   "outputs": [],
   "source": [
    "# fiting all features into a linear model\n",
    "lm2 = LinearRegression()\n",
    "model2 = lm2.fit(Xs_train2, training_y)\n",
    "\n",
    "# evaluate with training data\n",
    "print model2.score(Xs_train2, training_y)\n",
    "print cross_val_score(lm2, Xs_train2, training_y, cv=10)\n",
    "\n",
    "# predict testing data\n",
    "predict_test2 = model2.predict(Xs_test2)\n",
    "\n",
    "print model2.score(Xs_test2, testing_y)"
   ]
  },
  {
   "cell_type": "markdown",
   "metadata": {},
   "source": [
    "### Regularization"
   ]
  },
  {
   "cell_type": "code",
   "execution_count": null,
   "metadata": {
    "ExecuteTime": {
     "start_time": "2017-09-01T00:51:49.517Z"
    },
    "collapsed": true
   },
   "outputs": [],
   "source": [
    "l1_ratios = np.linspace(0.001, 1.0, 100)\n",
    "\n",
    "optimal_enet = ElasticNetCV(l1_ratio=l1_ratios, n_alphas=100, cv=10, verbose=1)\n",
    "optimal_enet.fit(Xs_train, training_y)\n",
    "\n",
    "print optimal_enet.alpha_\n",
    "print optimal_enet.l1_ratio_"
   ]
  },
  {
   "cell_type": "code",
   "execution_count": null,
   "metadata": {
    "ExecuteTime": {
     "start_time": "2017-09-01T00:51:49.525Z"
    },
    "collapsed": true
   },
   "outputs": [],
   "source": [
    "enet = ElasticNet(alpha=optimal_enet.alpha_, l1_ratio=optimal_enet.l1_ratio_)\n",
    "\n",
    "enet_scores = cross_val_score(enet, Xs_train, training_y, cv=10)\n",
    "\n",
    "print enet_scores\n",
    "print np.mean(enet_scores)\n",
    "\n",
    "enet.fit(Xs_train, training_y)\n",
    "print enet.score(Xs_train, training_y), enet.score(Xs_test, testing_y)"
   ]
  },
  {
   "cell_type": "markdown",
   "metadata": {},
   "source": [
    "### Ridge regression"
   ]
  },
  {
   "cell_type": "code",
   "execution_count": null,
   "metadata": {
    "ExecuteTime": {
     "start_time": "2017-09-01T00:51:49.536Z"
    },
    "collapsed": true
   },
   "outputs": [],
   "source": [
    "ridge_alphas = np.logspace(0, 5, 200)\n",
    "\n",
    "optimal_ridge = RidgeCV(alphas=ridge_alphas, cv=10)\n",
    "optimal_ridge.fit(Xs_train, training_y)\n",
    "\n",
    "print optimal_ridge.alpha_"
   ]
  },
  {
   "cell_type": "code",
   "execution_count": null,
   "metadata": {
    "ExecuteTime": {
     "start_time": "2017-09-01T00:51:49.543Z"
    },
    "collapsed": true
   },
   "outputs": [],
   "source": [
    "ridge = Ridge(alpha=optimal_ridge.alpha_)\n",
    "\n",
    "ridge_scores = cross_val_score(ridge, Xs_train, training_y, cv=10)\n",
    "\n",
    "print ridge_scores\n",
    "print np.mean(ridge_scores)\n",
    "\n",
    "ridge.fit(Xs_train, training_y)\n",
    "print ridge.score(Xs_train, training_y), ridge.score(Xs_test, testing_y)"
   ]
  },
  {
   "cell_type": "markdown",
   "metadata": {},
   "source": [
    "# Determine any value of *changeable* property characteristics unexplained by the *fixed* ones.\n"
   ]
  },
  {
   "cell_type": "markdown",
   "metadata": {},
   "source": [
    "What are the costs/benefits of quality, condition, and renovations?\n",
    "\n",
    "There are two specific requirements for these estimates:\n",
    "1. The estimates of effects must be in terms of dollars added or subtracted from the house value.\n",
    "- The effects must be on the variance in price remaining from the first model.\n",
    "\n",
    "Your goals:\n",
    "1. Evaluate the effect in dollars of the renovate-able features.\n",
    "- How would your company use second model and its coefficients to determine whether they should buy a property or not? Explain how the company can use the two models you have built to determine if they can make money.\n",
    "- Investigate how much of the variance in price remaining is explained by these features.\n",
    "- Do you trust your model? Should it be used to evaluate which properties to buy and fix up?"
   ]
  },
  {
   "cell_type": "markdown",
   "metadata": {},
   "source": [
    "## Get residuals (y)"
   ]
  },
  {
   "cell_type": "code",
   "execution_count": null,
   "metadata": {
    "ExecuteTime": {
     "start_time": "2017-09-01T00:51:49.551Z"
    },
    "collapsed": true
   },
   "outputs": [],
   "source": [
    "fix = fixed_house.copy()\n",
    "fix_X = fix.iloc[:, :-1]\n",
    "Xs = ss.transform(fix_X)\n",
    "fix['predict_price'] = enet.predict(Xs)"
   ]
  },
  {
   "cell_type": "code",
   "execution_count": null,
   "metadata": {
    "ExecuteTime": {
     "start_time": "2017-09-01T00:51:49.558Z"
    },
    "collapsed": true
   },
   "outputs": [],
   "source": [
    "fix['residual'] = fix.predict_price - fix.SalePrice\n",
    "fix = fix.applymap(round)\n",
    "fix.predict_price = fix.predict_price.astype(int)\n",
    "fix.residual = fix.residual.astype(int)"
   ]
  },
  {
   "cell_type": "code",
   "execution_count": null,
   "metadata": {
    "ExecuteTime": {
     "start_time": "2017-09-01T00:51:49.567Z"
    },
    "collapsed": true
   },
   "outputs": [],
   "source": [
    "y = fix.residual.values"
   ]
  },
  {
   "cell_type": "markdown",
   "metadata": {},
   "source": [
    "## Set predictors (X)"
   ]
  },
  {
   "cell_type": "code",
   "execution_count": null,
   "metadata": {
    "ExecuteTime": {
     "start_time": "2017-09-01T00:51:49.575Z"
    },
    "collapsed": true
   },
   "outputs": [],
   "source": [
    "all_feature = house.columns\n",
    "unfixed_feature = [x for x in all_feature if x not in fixed_feature]\n",
    "unfixed_house = house[unfixed_feature].iloc[:,:-2]"
   ]
  },
  {
   "cell_type": "code",
   "execution_count": null,
   "metadata": {
    "ExecuteTime": {
     "start_time": "2017-09-01T00:51:49.582Z"
    },
    "collapsed": true
   },
   "outputs": [],
   "source": [
    "for col in unfixed_house.columns:\n",
    "    if unfixed_house[col].dtype == 'object':\n",
    "        unfixed_house[col] = unfixed_house[col].factorize()[0]\n",
    "\n",
    "X = unfixed_house\n",
    "X.shape"
   ]
  },
  {
   "cell_type": "code",
   "execution_count": null,
   "metadata": {
    "ExecuteTime": {
     "start_time": "2017-09-01T00:51:49.592Z"
    },
    "collapsed": true
   },
   "outputs": [],
   "source": [
    "X.MasVnrArea = X.MasVnrArea.fillna(X.MasVnrArea.mean())\n",
    "X.isnull().sum().sum()"
   ]
  },
  {
   "cell_type": "code",
   "execution_count": null,
   "metadata": {
    "ExecuteTime": {
     "start_time": "2017-09-01T00:51:49.601Z"
    },
    "collapsed": true
   },
   "outputs": [],
   "source": [
    "X = X[~ is_outlier(hnc_stand, thresh=1.5)]"
   ]
  },
  {
   "cell_type": "markdown",
   "metadata": {},
   "source": [
    "## Fit model and evaluate"
   ]
  },
  {
   "cell_type": "code",
   "execution_count": null,
   "metadata": {
    "ExecuteTime": {
     "start_time": "2017-09-01T00:51:49.609Z"
    },
    "collapsed": true
   },
   "outputs": [],
   "source": [
    "Xs = ss.fit_transform(X)\n",
    "\n",
    "lr2 = LinearRegression()\n",
    "model3 = lr2.fit(Xs, y)\n",
    "print model3.score(Xs, y)\n",
    "cross_val_score(lr2, Xs, y, cv=10)"
   ]
  },
  {
   "cell_type": "code",
   "execution_count": null,
   "metadata": {
    "ExecuteTime": {
     "start_time": "2017-09-01T00:51:49.618Z"
    },
    "collapsed": true
   },
   "outputs": [],
   "source": [
    "# y \n",
    "y_hat = model3.predict(Xs)\n",
    "\n",
    "def accuracy(y, y_hat, precent=0.1):\n",
    "    a = 0\n",
    "    pair = zip(y, y_hat)\n",
    "    for p in pair:\n",
    "        i, j = p\n",
    "        if i < 0 and j > 0:\n",
    "            a += 1\n",
    "    return 1 - float(a) / len(pair)\n",
    "\n",
    "print accuracy(y, y_hat, precent=0.5)\n",
    "\n",
    "sns.jointplot(y, y_hat)"
   ]
  },
  {
   "cell_type": "markdown",
   "metadata": {},
   "source": [
    "residuals = predict price - actural price\n",
    "\n",
    "So, if residual > 0, then we can make profit.\n",
    "\n",
    "In this model:\n",
    "- If predict residual > 0 and actural residual > 0, then we suggest that company should buy this proporty.\n",
    "- If predict residual < 0 and actural residual < 0, then we suggest that company should not buy this proporty.\n",
    "- If predict residual < 0 and actural residual > 0, we will suggest not buying. Company won't lose money."
   ]
  },
  {
   "cell_type": "code",
   "execution_count": null,
   "metadata": {
    "ExecuteTime": {
     "start_time": "2017-09-01T00:51:49.629Z"
    },
    "collapsed": true
   },
   "outputs": [],
   "source": [
    "l1_ratios = np.linspace(0.001, 1.0, 100)\n",
    "\n",
    "optimal_enet2 = ElasticNetCV(l1_ratio=l1_ratios, n_alphas=100, cv=10, verbose=1)\n",
    "optimal_enet2.fit(Xs, y)\n",
    "\n",
    "enet2 = ElasticNet(alpha=optimal_enet2.alpha_, l1_ratio=optimal_enet2.l1_ratio_)\n",
    "\n",
    "enet_scores2 = cross_val_score(enet2, Xs, y, cv=10)\n",
    "\n",
    "print enet_scores2\n",
    "print np.mean(enet_scores2)\n"
   ]
  },
  {
   "cell_type": "code",
   "execution_count": null,
   "metadata": {
    "ExecuteTime": {
     "start_time": "2017-09-01T00:51:49.637Z"
    },
    "collapsed": true
   },
   "outputs": [],
   "source": [
    "enet2.fit(Xs, y)\n",
    "y_hat2 = enet2.predict(Xs)\n",
    "\n",
    "sns.jointplot(y, y_hat2)\n",
    "\n",
    "print accuracy(y, y_hat2, precent=2)"
   ]
  },
  {
   "cell_type": "markdown",
   "metadata": {},
   "source": [
    "# What property characteristics predict an \"abnormal\" sale?\n"
   ]
  },
  {
   "cell_type": "markdown",
   "metadata": {},
   "source": [
    "## Load data"
   ]
  },
  {
   "cell_type": "code",
   "execution_count": 3,
   "metadata": {
    "ExecuteTime": {
     "end_time": "2017-09-01T00:52:51.883982Z",
     "start_time": "2017-09-01T00:52:51.863102Z"
    }
   },
   "outputs": [],
   "source": [
    "df = pd.read_csv('./housing.csv')\n",
    "df.drop(['SalePrice', 'YrSold', 'MoSold', 'Id'], axis=1, inplace=True)"
   ]
  },
  {
   "cell_type": "markdown",
   "metadata": {},
   "source": [
    "## Set y"
   ]
  },
  {
   "cell_type": "code",
   "execution_count": 4,
   "metadata": {
    "ExecuteTime": {
     "end_time": "2017-09-01T00:53:03.068034Z",
     "start_time": "2017-09-01T00:53:03.062601Z"
    },
    "collapsed": true
   },
   "outputs": [],
   "source": [
    "df.SaleCondition = (df.SaleCondition == 'Abnorml')\n",
    "df.SaleCondition = df.SaleCondition.astype(int)\n",
    "\n",
    "y = df.SaleCondition.values"
   ]
  },
  {
   "cell_type": "markdown",
   "metadata": {},
   "source": [
    "## Set X"
   ]
  },
  {
   "cell_type": "code",
   "execution_count": 5,
   "metadata": {
    "ExecuteTime": {
     "end_time": "2017-09-01T00:53:07.897302Z",
     "start_time": "2017-09-01T00:53:07.893374Z"
    },
    "collapsed": true
   },
   "outputs": [],
   "source": [
    "X = df.iloc[:, :-1]"
   ]
  },
  {
   "cell_type": "code",
   "execution_count": 8,
   "metadata": {
    "ExecuteTime": {
     "end_time": "2017-09-01T00:55:02.675380Z",
     "start_time": "2017-09-01T00:55:02.669176Z"
    }
   },
   "outputs": [],
   "source": [
    "for col in X.columns:\n",
    "    if X[col].dtype == 'object':\n",
    "        X[col] = X[col].factorize()[0]"
   ]
  },
  {
   "cell_type": "code",
   "execution_count": 16,
   "metadata": {
    "ExecuteTime": {
     "end_time": "2017-09-01T00:58:19.909111Z",
     "start_time": "2017-09-01T00:58:19.885767Z"
    }
   },
   "outputs": [
    {
     "data": {
      "text/plain": [
       "0L"
      ]
     },
     "execution_count": 16,
     "metadata": {},
     "output_type": "execute_result"
    }
   ],
   "source": [
    "for c in X.columns:\n",
    "    if X[c].isnull().sum() > 0:\n",
    "        X[c] = X[c].fillna(X[c].mean())\n",
    "X.isnull().sum().sum()"
   ]
  },
  {
   "cell_type": "markdown",
   "metadata": {},
   "source": [
    "## Feature selection"
   ]
  },
  {
   "cell_type": "code",
   "execution_count": 18,
   "metadata": {
    "ExecuteTime": {
     "end_time": "2017-09-01T00:59:13.410191Z",
     "start_time": "2017-09-01T00:58:53.086528Z"
    }
   },
   "outputs": [
    {
     "name": "stdout",
     "output_type": "stream",
     "text": [
      "[False  True  True False  True  True  True  True  True  True  True  True\n",
      "  True  True  True  True  True  True  True  True  True  True  True  True\n",
      "  True False  True  True  True  True  True  True  True False  True False\n",
      " False False  True  True  True  True False False  True  True  True  True\n",
      "  True  True  True  True  True  True  True  True  True  True  True  True\n",
      "  True  True  True  True  True False  True  True  True  True  True  True\n",
      "  True  True  True  True]\n",
      "[ 3  1  1 10  1  1  1  1  1  1  1  1  1  1  1  1  1  1  1  1  1  1  1  1  1\n",
      "  8  1  1  1  1  1  1  1  6  1  2  5  4  1  1  1  1 11  7  1  1  1  1  1  1\n",
      "  1  1  1  1  1  1  1  1  1  1  1  1  1  1  1  9  1  1  1  1  1  1  1  1  1\n",
      "  1]\n"
     ]
    },
    {
     "data": {
      "text/plain": [
       "array(['MSZoning', 'LotFrontage', 'Street', 'Alley', 'LotShape',\n",
       "       'LandContour', 'Utilities', 'LotConfig', 'LandSlope',\n",
       "       'Neighborhood', 'Condition1', 'Condition2', 'BldgType',\n",
       "       'HouseStyle', 'OverallQual', 'OverallCond', 'YearBuilt',\n",
       "       'YearRemodAdd', 'RoofStyle', 'RoofMatl', 'Exterior1st',\n",
       "       'Exterior2nd', 'MasVnrType', 'ExterQual', 'ExterCond', 'Foundation',\n",
       "       'BsmtQual', 'BsmtCond', 'BsmtExposure', 'BsmtFinType1',\n",
       "       'BsmtFinType2', 'Heating', 'HeatingQC', 'CentralAir', 'Electrical',\n",
       "       'LowQualFinSF', 'GrLivArea', 'BsmtFullBath', 'BsmtHalfBath',\n",
       "       'FullBath', 'HalfBath', 'BedroomAbvGr', 'KitchenAbvGr',\n",
       "       'KitchenQual', 'TotRmsAbvGrd', 'Functional', 'Fireplaces',\n",
       "       'FireplaceQu', 'GarageType', 'GarageYrBlt', 'GarageFinish',\n",
       "       'GarageCars', 'GarageArea', 'GarageQual', 'GarageCond',\n",
       "       'PavedDrive', 'OpenPorchSF', 'EnclosedPorch', '3SsnPorch',\n",
       "       'ScreenPorch', 'PoolArea', 'PoolQC', 'Fence', 'MiscFeature',\n",
       "       'MiscVal', 'SaleType'], dtype=object)"
      ]
     },
     "execution_count": 18,
     "metadata": {},
     "output_type": "execute_result"
    }
   ],
   "source": [
    "lr = LogisticRegression()\n",
    "\n",
    "selector = RFECV(lr, step=1, cv=10)\n",
    "selector = selector.fit(X, y)\n",
    "\n",
    "print selector.support_\n",
    "print selector.ranking_\n",
    "\n",
    "rfecv_columns = np.array(X.columns)[selector.support_]\n",
    "rfecv_columns"
   ]
  },
  {
   "cell_type": "code",
   "execution_count": 19,
   "metadata": {
    "ExecuteTime": {
     "end_time": "2017-09-01T00:59:47.783879Z",
     "start_time": "2017-09-01T00:59:47.778277Z"
    }
   },
   "outputs": [
    {
     "data": {
      "text/plain": [
       "(1460, 66)"
      ]
     },
     "execution_count": 19,
     "metadata": {},
     "output_type": "execute_result"
    }
   ],
   "source": [
    "X = X[rfecv_columns]\n",
    "X.shape"
   ]
  },
  {
   "cell_type": "markdown",
   "metadata": {},
   "source": [
    "## Fit model and evaluate"
   ]
  },
  {
   "cell_type": "markdown",
   "metadata": {},
   "source": [
    "### KNN"
   ]
  },
  {
   "cell_type": "code",
   "execution_count": 23,
   "metadata": {
    "ExecuteTime": {
     "end_time": "2017-09-01T01:04:01.165640Z",
     "start_time": "2017-09-01T01:04:00.841539Z"
    }
   },
   "outputs": [
    {
     "name": "stdout",
     "output_type": "stream",
     "text": [
      "[ 0.91836735  0.93150685  0.92465753  0.93150685  0.93150685  0.92465753\n",
      "  0.93150685  0.93150685  0.93150685  0.93103448]\n",
      "0.932876712329 0.928775799408\n"
     ]
    }
   ],
   "source": [
    "knn5 = KNeighborsClassifier(n_neighbors=5)\n",
    "knn5.fit(X, y)\n",
    "\n",
    "cv_score = cross_val_score(knn5, X, y, cv=10)\n",
    "print cross_val_score(knn5, X, y, cv=10)\n",
    "print knn5.score(X, y), cv_score.mean()"
   ]
  },
  {
   "cell_type": "markdown",
   "metadata": {},
   "source": [
    "### Logistic regression"
   ]
  },
  {
   "cell_type": "code",
   "execution_count": 25,
   "metadata": {
    "ExecuteTime": {
     "end_time": "2017-09-01T01:11:15.935542Z",
     "start_time": "2017-09-01T01:11:15.634357Z"
    }
   },
   "outputs": [
    {
     "name": "stdout",
     "output_type": "stream",
     "text": [
      "0.935616438356 0.930825934531\n"
     ]
    }
   ],
   "source": [
    "ss = StandardScaler()\n",
    "Xs = ss.fit_transform(X)\n",
    "\n",
    "lr = LogisticRegression()\n",
    "lr.fit(Xs, y)\n",
    "\n",
    "cv_scores = cross_val_score(lr, Xs, y, cv=10)\n",
    "print lr.score(Xs, y), cv_scores.mean()"
   ]
  },
  {
   "cell_type": "code",
   "execution_count": null,
   "metadata": {
    "collapsed": true
   },
   "outputs": [],
   "source": []
  }
 ],
 "metadata": {
  "anaconda-cloud": {},
  "kernelspec": {
   "display_name": "Python [default]",
   "language": "python",
   "name": "python2"
  },
  "language_info": {
   "codemirror_mode": {
    "name": "ipython",
    "version": 2
   },
   "file_extension": ".py",
   "mimetype": "text/x-python",
   "name": "python",
   "nbconvert_exporter": "python",
   "pygments_lexer": "ipython2",
   "version": "2.7.13"
  },
  "toc": {
   "colors": {
    "hover_highlight": "#DAA520",
    "navigate_num": "#000000",
    "navigate_text": "#333333",
    "running_highlight": "#FF0000",
    "selected_highlight": "#FFD700",
    "sidebar_border": "#EEEEEE",
    "wrapper_background": "#FFFFFF"
   },
   "moveMenuLeft": true,
   "nav_menu": {
    "height": "300px",
    "width": "252px"
   },
   "navigate_menu": true,
   "number_sections": true,
   "sideBar": true,
   "threshold": 4,
   "toc_cell": false,
   "toc_position": {
    "height": "674px",
    "left": "0px",
    "right": "942px",
    "top": "106px",
    "width": "212px"
   },
   "toc_section_display": "block",
   "toc_window_display": true,
   "widenNotebook": false
  }
 },
 "nbformat": 4,
 "nbformat_minor": 2
}
